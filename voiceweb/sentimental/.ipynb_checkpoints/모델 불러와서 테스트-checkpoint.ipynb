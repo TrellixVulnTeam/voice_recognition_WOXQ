{
 "cells": [
  {
   "cell_type": "code",
   "execution_count": 52,
   "metadata": {},
   "outputs": [],
   "source": [
    "from tensorflow.keras import models\n",
    "from tensorflow.keras import layers\n",
    "from tensorflow.keras import optimizers\n",
    "from tensorflow.keras import losses\n",
    "from tensorflow.keras import metrics\n",
    "from tensorflow.keras.models import load_model\n",
    "from tensorflow.keras import utils\n",
    "import json\n",
    "import os\n",
    "from pprint import pprint\n",
    "from konlpy.tag import Okt\n",
    "import numpy as np"
   ]
  },
  {
   "cell_type": "code",
   "execution_count": 34,
   "metadata": {},
   "outputs": [],
   "source": [
    "model = load_model('meeting_mlp_model.h5')"
   ]
  },
  {
   "cell_type": "code",
   "execution_count": 35,
   "metadata": {},
   "outputs": [],
   "source": [
    "import nltk"
   ]
  },
  {
   "cell_type": "code",
   "execution_count": 39,
   "metadata": {},
   "outputs": [
    {
     "name": "stderr",
     "output_type": "stream",
     "text": [
      "C:\\Users\\kyungmin\\Anaconda3\\envs\\meeting\\lib\\site-packages\\jpype\\_core.py:210: UserWarning: \n",
      "-------------------------------------------------------------------------------\n",
      "Deprecated: convertStrings was not specified when starting the JVM. The default\n",
      "behavior in JPype will be False starting in JPype 0.8. The recommended setting\n",
      "for new code is convertStrings=False.  The legacy value of True was assumed for\n",
      "this session. If you are a user of an application that reported this warning,\n",
      "please file a ticket with the developer.\n",
      "-------------------------------------------------------------------------------\n",
      "\n",
      "  \"\"\")\n"
     ]
    }
   ],
   "source": [
    "okt = Okt()"
   ]
  },
  {
   "cell_type": "code",
   "execution_count": 40,
   "metadata": {},
   "outputs": [],
   "source": [
    "def tokenize(doc):\n",
    "    # norm은 정규화, stem은 근어로 표시하기를 나타냄\n",
    "    return ['/'.join(t) for t in okt.pos(doc, norm=True, stem=True)]\n",
    "\n",
    "if os.path.isfile('train_docs.json'):\n",
    "    with open('train_docs.json', encoding='utf-8') as f:\n",
    "        train_docs = json.load(f)\n",
    "    with open('test_docs.json', encoding='utf-8') as f:\n",
    "        test_docs = json.load(f)\n",
    "else:\n",
    "    train_docs = [(tokenize(row[1]), row[2]) for row in train_data]\n",
    "    test_docs = [(tokenize(row[1]), row[2]) for row in test_data]\n",
    "    # JSON 파일로 저장\n",
    "    with open('train_docs.json', 'w', encoding=\"utf-8\") as make_file:\n",
    "        json.dump(train_docs, make_file, ensure_ascii=False, indent=\"\\t\")\n",
    "    with open('test_docs.json', 'w', encoding=\"utf-8\") as make_file:\n",
    "        json.dump(test_docs, make_file, ensure_ascii=False, indent=\"\\t\")"
   ]
  },
  {
   "cell_type": "code",
   "execution_count": 49,
   "metadata": {},
   "outputs": [],
   "source": [
    "tokens = [t for d in train_docs for t in d[0]]\n",
    "text = nltk.Text(tokens, name='NMSC')\n",
    "selected_words = [f[0] for f in text.vocab().most_common(4500)]\n",
    "\n",
    "def term_frequency(doc):\n",
    "    return [doc.count(word) for word in selected_words]"
   ]
  },
  {
   "cell_type": "code",
   "execution_count": 50,
   "metadata": {},
   "outputs": [],
   "source": [
    "def predict_pos_neg(opinion):\n",
    "    token = tokenize(opinion)\n",
    "    tf = term_frequency(token)\n",
    "    data = np.expand_dims(np.asarray(tf).astype('float32'), axis=0)\n",
    "    score = model.predict(data)\n",
    "    max_index=0\n",
    "    max_value=-1\n",
    "    index=0\n",
    "    for prob in score[0]:\n",
    "        if max_value< prob:\n",
    "            max_value=prob\n",
    "            max_index=index\n",
    "        index+=1\n",
    "    if max_index==0:\n",
    "        print(\"[{}]는 {:.2f}% 확률로 부정 리뷰이지 않을까 추측해봅니다.^^\\n\".format(opinion, max_value * 100))\n",
    "    elif max_index==1:\n",
    "        print(\"[{}]는 {:.2f}% 확률로 중립 리뷰이지 않을까 추측해봅니다.^^\\n\".format(opinion, max_value * 100))\n",
    "    elif max_index==2:\n",
    "        print(\"[{}]는 {:.2f}% 확률로 긍정 리뷰이지 않을까 추측해봅니다.^^\\n\".format(opinion, max_value * 100))"
   ]
  },
  {
   "cell_type": "code",
   "execution_count": 53,
   "metadata": {},
   "outputs": [
    {
     "name": "stdout",
     "output_type": "stream",
     "text": [
      "[내일 공강이다.]는 51.53% 확률로 중립 리뷰이지 않을까 추측해봅니다.^^\n",
      "\n",
      "[동의합니다.]는 58.26% 확률로 긍정 리뷰이지 않을까 추측해봅니다.^^\n",
      "\n",
      "[좋아요.]는 37.74% 확률로 긍정 리뷰이지 않을까 추측해봅니다.^^\n",
      "\n",
      "[맞습니다.]는 87.74% 확률로 긍정 리뷰이지 않을까 추측해봅니다.^^\n",
      "\n",
      "[반대합니다]는 91.65% 확률로 부정 리뷰이지 않을까 추측해봅니다.^^\n",
      "\n",
      "[난 너무 좋아!]는 46.37% 확률로 긍정 리뷰이지 않을까 추측해봅니다.^^\n",
      "\n",
      "[그건 좀 아닌거같아]는 52.79% 확률로 부정 리뷰이지 않을까 추측해봅니다.^^\n",
      "\n",
      "[난 중립이야]는 69.34% 확률로 중립 리뷰이지 않을까 추측해봅니다.^^\n",
      "\n",
      "[난 노트북이야]는 69.34% 확률로 중립 리뷰이지 않을까 추측해봅니다.^^\n",
      "\n",
      "[장고는 정말 쓰레기같은 프레임워크야]는 66.72% 확률로 중립 리뷰이지 않을까 추측해봅니다.^^\n",
      "\n",
      "[장고는 안좋은 프레임워크야]는 43.84% 확률로 부정 리뷰이지 않을까 추측해봅니다.^^\n",
      "\n"
     ]
    }
   ],
   "source": [
    "predict_pos_neg(\"내일 공강이다.\")\n",
    "predict_pos_neg(\"동의합니다.\")\n",
    "predict_pos_neg(\"좋아요.\")\n",
    "predict_pos_neg(\"맞습니다.\")\n",
    "predict_pos_neg(\"반대합니다\")\n",
    "predict_pos_neg(\"난 너무 좋아!\")\n",
    "predict_pos_neg(\"그건 좀 아닌거같아\")\n",
    "predict_pos_neg(\"난 중립이야\")\n",
    "predict_pos_neg(\"난 노트북이야\")\n",
    "predict_pos_neg(\"장고는 정말 쓰레기같은 프레임워크야\")\n",
    "predict_pos_neg(\"장고는 안좋은 프레임워크야\")"
   ]
  },
  {
   "cell_type": "code",
   "execution_count": null,
   "metadata": {},
   "outputs": [],
   "source": []
  }
 ],
 "metadata": {
  "kernelspec": {
   "display_name": "meeting",
   "language": "python",
   "name": "meeting"
  },
  "language_info": {
   "codemirror_mode": {
    "name": "ipython",
    "version": 3
   },
   "file_extension": ".py",
   "mimetype": "text/x-python",
   "name": "python",
   "nbconvert_exporter": "python",
   "pygments_lexer": "ipython3",
   "version": "3.6.9"
  }
 },
 "nbformat": 4,
 "nbformat_minor": 2
}
